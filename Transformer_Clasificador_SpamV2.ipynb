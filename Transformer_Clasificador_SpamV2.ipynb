{
  "nbformat": 4,
  "nbformat_minor": 0,
  "metadata": {
    "colab": {
      "provenance": [],
      "gpuType": "T4"
    },
    "kernelspec": {
      "name": "python3",
      "display_name": "Python 3"
    },
    "language_info": {
      "name": "python"
    },
    "accelerator": "GPU"
  },
  "cells": [
    {
      "cell_type": "markdown",
      "source": [
        "# Explicación del Dataset y Propósito del Proyecto\n",
        "\n",
        "## 1. Introducción\n",
        "Este proyecto tiene como objetivo construir un modelo de clasificación de texto para identificar mensajes de correo electrónico como **spam** o **ham** (no spam). Utilizando técnicas de procesamiento de lenguaje natural (NLP), el proyecto busca construir un modelo robusto capaz de clasificar correos electrónicos de manera eficiente.\n",
        "\n",
        "## 2. Dataset\n",
        "El dataset utilizado en este proyecto contiene mensajes de texto etiquetados como **spam** o **ham**. La tarea consiste en entrenar un modelo para que pueda predecir la etiqueta (spam o ham) de un nuevo mensaje basándose en su contenido.\n",
        "\n",
        "### Descripción del Dataset:\n",
        "El dataset está compuesto por dos columnas:\n",
        "- **Class**: La etiqueta del correo electrónico, que puede ser:\n",
        "  - `ham`: Correo legítimo o no deseado.\n",
        "  - `spam`: Correo no deseado o correo basura.\n",
        "- **Message**: El cuerpo del mensaje de correo electrónico, que contiene el texto que será clasificado.\n",
        "\n",
        "El dataset tiene un formato similar al siguiente:\n",
        "\n",
        "| **Class** | **Message** |\n",
        "|-----------|-------------|\n",
        "| ham       | Go until jurong point, crazy.. Available only ... |\n",
        "| ham       | Ok lar... Joking wif u oni... |\n",
        "| spam      | Free entry in 2 a wkly comp to win FA Cup fina... |\n",
        "| ham       | U dun say so early hor... U c already then say... |\n",
        "| ham       | Nah I don't think he goes to usf, he lives aro... |\n",
        "\n",
        "### Características:\n",
        "- **Número de muestras**: Aproximadamente 5,000 correos electrónicos (ajusta según tu dataset).\n",
        "- **Formato de los datos**:\n",
        "  - **Clase**: Etiqueta que indica si el mensaje es spam o ham.\n",
        "  - **Mensaje**: El texto del correo electrónico que se utilizará para la clasificación.\n",
        "\n",
        "### Origen del Dataset:\n",
        "Este dataset es un subconjunto del SMS Spam Collection Dataset, que es un conjunto de datos ampliamente utilizado para tareas de clasificación de texto y detección de spam.\n",
        "\n",
        "## 3. Propósito del Proyecto\n",
        "El propósito de este proyecto es construir un clasificador de texto que pueda identificar automáticamente si un mensaje es spam o ham. Este modelo será útil para mejorar los sistemas de filtrado de spam en correos electrónicos y otros sistemas de mensajes.\n",
        "\n",
        "### Objetivos Específicos:\n",
        "1. **Preprocesamiento de texto**: Limpiar y procesar los mensajes de texto, eliminando ruido (como símbolos innecesarios o palabras comunes) para mejorar el rendimiento del modelo.\n",
        "2. **Entrenamiento de un modelo de clasificación**: Utilizar modelos avanzados como Transformers (por ejemplo, BERT) para entrenar el clasificador de spam.\n",
        "3. **Evaluación del modelo**: Medir el rendimiento del modelo usando métricas como precisión, recall, y la matriz de confusión para evaluar su capacidad de clasificar correctamente los mensajes.\n",
        "4. **Implementación de una solución real**: Utilizar el modelo entrenado para predecir si un nuevo mensaje de correo electrónico es spam o ham.\n",
        "\n",
        "## 4. Impacto Esperado\n",
        "El uso de modelos de clasificación automáticos para la detección de spam permitirá filtrar los correos electrónicos no deseados de manera más eficiente, lo que reducirá el tiempo y esfuerzo de los usuarios al revisar su bandeja de entrada. Además, esta tecnología puede ser aplicada en otros campos, como la clasificación de comentarios, la detección de fraude y la clasificación de contenido en redes sociales.\n",
        "\n",
        "Este modelo puede ser el punto de partida para sistemas más avanzados de detección de spam en otras plataformas de comunicación, ayudando a mejorar la seguridad y la eficiencia de los usuarios.\n"
      ],
      "metadata": {
        "id": "_-KgpVsyTkt2"
      }
    },
    {
      "cell_type": "code",
      "source": [
        "from sklearn.metrics import confusion_matrix, classification_report\n",
        "import seaborn as sns\n",
        "import matplotlib.pyplot as plt"
      ],
      "metadata": {
        "id": "syF87aQ8XGRv"
      },
      "execution_count": null,
      "outputs": []
    },
    {
      "cell_type": "code",
      "source": [
        "from google.colab import files\n",
        "files.upload()  # Sube aquí el archivo kaggle.json"
      ],
      "metadata": {
        "colab": {
          "base_uri": "https://localhost:8080/",
          "height": 90
        },
        "id": "BK0LR4dd8AlF",
        "outputId": "1b04ef51-6247-481d-f747-94446a13f7f1"
      },
      "execution_count": null,
      "outputs": [
        {
          "output_type": "display_data",
          "data": {
            "text/plain": [
              "<IPython.core.display.HTML object>"
            ],
            "text/html": [
              "\n",
              "     <input type=\"file\" id=\"files-4fce7812-fa4f-4e72-9a32-e92232fb3d0c\" name=\"files[]\" multiple disabled\n",
              "        style=\"border:none\" />\n",
              "     <output id=\"result-4fce7812-fa4f-4e72-9a32-e92232fb3d0c\">\n",
              "      Upload widget is only available when the cell has been executed in the\n",
              "      current browser session. Please rerun this cell to enable.\n",
              "      </output>\n",
              "      <script>// Copyright 2017 Google LLC\n",
              "//\n",
              "// Licensed under the Apache License, Version 2.0 (the \"License\");\n",
              "// you may not use this file except in compliance with the License.\n",
              "// You may obtain a copy of the License at\n",
              "//\n",
              "//      http://www.apache.org/licenses/LICENSE-2.0\n",
              "//\n",
              "// Unless required by applicable law or agreed to in writing, software\n",
              "// distributed under the License is distributed on an \"AS IS\" BASIS,\n",
              "// WITHOUT WARRANTIES OR CONDITIONS OF ANY KIND, either express or implied.\n",
              "// See the License for the specific language governing permissions and\n",
              "// limitations under the License.\n",
              "\n",
              "/**\n",
              " * @fileoverview Helpers for google.colab Python module.\n",
              " */\n",
              "(function(scope) {\n",
              "function span(text, styleAttributes = {}) {\n",
              "  const element = document.createElement('span');\n",
              "  element.textContent = text;\n",
              "  for (const key of Object.keys(styleAttributes)) {\n",
              "    element.style[key] = styleAttributes[key];\n",
              "  }\n",
              "  return element;\n",
              "}\n",
              "\n",
              "// Max number of bytes which will be uploaded at a time.\n",
              "const MAX_PAYLOAD_SIZE = 100 * 1024;\n",
              "\n",
              "function _uploadFiles(inputId, outputId) {\n",
              "  const steps = uploadFilesStep(inputId, outputId);\n",
              "  const outputElement = document.getElementById(outputId);\n",
              "  // Cache steps on the outputElement to make it available for the next call\n",
              "  // to uploadFilesContinue from Python.\n",
              "  outputElement.steps = steps;\n",
              "\n",
              "  return _uploadFilesContinue(outputId);\n",
              "}\n",
              "\n",
              "// This is roughly an async generator (not supported in the browser yet),\n",
              "// where there are multiple asynchronous steps and the Python side is going\n",
              "// to poll for completion of each step.\n",
              "// This uses a Promise to block the python side on completion of each step,\n",
              "// then passes the result of the previous step as the input to the next step.\n",
              "function _uploadFilesContinue(outputId) {\n",
              "  const outputElement = document.getElementById(outputId);\n",
              "  const steps = outputElement.steps;\n",
              "\n",
              "  const next = steps.next(outputElement.lastPromiseValue);\n",
              "  return Promise.resolve(next.value.promise).then((value) => {\n",
              "    // Cache the last promise value to make it available to the next\n",
              "    // step of the generator.\n",
              "    outputElement.lastPromiseValue = value;\n",
              "    return next.value.response;\n",
              "  });\n",
              "}\n",
              "\n",
              "/**\n",
              " * Generator function which is called between each async step of the upload\n",
              " * process.\n",
              " * @param {string} inputId Element ID of the input file picker element.\n",
              " * @param {string} outputId Element ID of the output display.\n",
              " * @return {!Iterable<!Object>} Iterable of next steps.\n",
              " */\n",
              "function* uploadFilesStep(inputId, outputId) {\n",
              "  const inputElement = document.getElementById(inputId);\n",
              "  inputElement.disabled = false;\n",
              "\n",
              "  const outputElement = document.getElementById(outputId);\n",
              "  outputElement.innerHTML = '';\n",
              "\n",
              "  const pickedPromise = new Promise((resolve) => {\n",
              "    inputElement.addEventListener('change', (e) => {\n",
              "      resolve(e.target.files);\n",
              "    });\n",
              "  });\n",
              "\n",
              "  const cancel = document.createElement('button');\n",
              "  inputElement.parentElement.appendChild(cancel);\n",
              "  cancel.textContent = 'Cancel upload';\n",
              "  const cancelPromise = new Promise((resolve) => {\n",
              "    cancel.onclick = () => {\n",
              "      resolve(null);\n",
              "    };\n",
              "  });\n",
              "\n",
              "  // Wait for the user to pick the files.\n",
              "  const files = yield {\n",
              "    promise: Promise.race([pickedPromise, cancelPromise]),\n",
              "    response: {\n",
              "      action: 'starting',\n",
              "    }\n",
              "  };\n",
              "\n",
              "  cancel.remove();\n",
              "\n",
              "  // Disable the input element since further picks are not allowed.\n",
              "  inputElement.disabled = true;\n",
              "\n",
              "  if (!files) {\n",
              "    return {\n",
              "      response: {\n",
              "        action: 'complete',\n",
              "      }\n",
              "    };\n",
              "  }\n",
              "\n",
              "  for (const file of files) {\n",
              "    const li = document.createElement('li');\n",
              "    li.append(span(file.name, {fontWeight: 'bold'}));\n",
              "    li.append(span(\n",
              "        `(${file.type || 'n/a'}) - ${file.size} bytes, ` +\n",
              "        `last modified: ${\n",
              "            file.lastModifiedDate ? file.lastModifiedDate.toLocaleDateString() :\n",
              "                                    'n/a'} - `));\n",
              "    const percent = span('0% done');\n",
              "    li.appendChild(percent);\n",
              "\n",
              "    outputElement.appendChild(li);\n",
              "\n",
              "    const fileDataPromise = new Promise((resolve) => {\n",
              "      const reader = new FileReader();\n",
              "      reader.onload = (e) => {\n",
              "        resolve(e.target.result);\n",
              "      };\n",
              "      reader.readAsArrayBuffer(file);\n",
              "    });\n",
              "    // Wait for the data to be ready.\n",
              "    let fileData = yield {\n",
              "      promise: fileDataPromise,\n",
              "      response: {\n",
              "        action: 'continue',\n",
              "      }\n",
              "    };\n",
              "\n",
              "    // Use a chunked sending to avoid message size limits. See b/62115660.\n",
              "    let position = 0;\n",
              "    do {\n",
              "      const length = Math.min(fileData.byteLength - position, MAX_PAYLOAD_SIZE);\n",
              "      const chunk = new Uint8Array(fileData, position, length);\n",
              "      position += length;\n",
              "\n",
              "      const base64 = btoa(String.fromCharCode.apply(null, chunk));\n",
              "      yield {\n",
              "        response: {\n",
              "          action: 'append',\n",
              "          file: file.name,\n",
              "          data: base64,\n",
              "        },\n",
              "      };\n",
              "\n",
              "      let percentDone = fileData.byteLength === 0 ?\n",
              "          100 :\n",
              "          Math.round((position / fileData.byteLength) * 100);\n",
              "      percent.textContent = `${percentDone}% done`;\n",
              "\n",
              "    } while (position < fileData.byteLength);\n",
              "  }\n",
              "\n",
              "  // All done.\n",
              "  yield {\n",
              "    response: {\n",
              "      action: 'complete',\n",
              "    }\n",
              "  };\n",
              "}\n",
              "\n",
              "scope.google = scope.google || {};\n",
              "scope.google.colab = scope.google.colab || {};\n",
              "scope.google.colab._files = {\n",
              "  _uploadFiles,\n",
              "  _uploadFilesContinue,\n",
              "};\n",
              "})(self);\n",
              "</script> "
            ]
          },
          "metadata": {}
        },
        {
          "output_type": "stream",
          "name": "stdout",
          "text": [
            "Saving kaggle.json to kaggle.json\n"
          ]
        },
        {
          "output_type": "execute_result",
          "data": {
            "text/plain": [
              "{'kaggle.json': b'{\"username\":\"manugal\",\"key\":\"d3d312bfa7349b7380be254e61c4bbd8\"}'}"
            ]
          },
          "metadata": {},
          "execution_count": 2
        }
      ]
    },
    {
      "cell_type": "code",
      "source": [
        "!mkdir -p ~/.kaggle\n",
        "!mv kaggle.json ~/.kaggle/\n",
        "!chmod 600 ~/.kaggle/kaggle.json"
      ],
      "metadata": {
        "id": "OgNXaZww9yPl"
      },
      "execution_count": null,
      "outputs": []
    },
    {
      "cell_type": "code",
      "source": [
        "import kagglehub\n",
        "\n",
        "# Descargar el dataset desde Kaggle\n",
        "path = kagglehub.dataset_download(\"mariumfaheem666/spam-sms-classification-using-nlp\")\n",
        "\n",
        "print(\"Path to dataset files:\", path)"
      ],
      "metadata": {
        "colab": {
          "base_uri": "https://localhost:8080/"
        },
        "id": "342RmVYh-d0p",
        "outputId": "38b3412a-1b8b-496a-8099-a946e257bd8f"
      },
      "execution_count": null,
      "outputs": [
        {
          "output_type": "stream",
          "name": "stdout",
          "text": [
            "Path to dataset files: /root/.cache/kagglehub/datasets/mariumfaheem666/spam-sms-classification-using-nlp/versions/1\n"
          ]
        }
      ]
    },
    {
      "cell_type": "code",
      "source": [
        "!kaggle datasets download -d mariumfaheem666/spam-sms-classification-using-nlp -p /content\n",
        "!unzip /content/spam-sms-classification-using-nlp.zip -d /content"
      ],
      "metadata": {
        "id": "sDPTg2pp_Qdv",
        "colab": {
          "base_uri": "https://localhost:8080/"
        },
        "outputId": "d655a5ab-f3d7-49d8-bb1e-951226c4b888"
      },
      "execution_count": null,
      "outputs": [
        {
          "output_type": "stream",
          "name": "stdout",
          "text": [
            "Dataset URL: https://www.kaggle.com/datasets/mariumfaheem666/spam-sms-classification-using-nlp\n",
            "License(s): apache-2.0\n",
            "Downloading spam-sms-classification-using-nlp.zip to /content\n",
            "100% 209k/209k [00:00<00:00, 390kB/s]\n",
            "100% 209k/209k [00:00<00:00, 390kB/s]\n",
            "Archive:  /content/spam-sms-classification-using-nlp.zip\n",
            "  inflating: /content/Spam_SMS.csv   \n"
          ]
        }
      ]
    },
    {
      "cell_type": "code",
      "source": [
        "import pandas as pd\n",
        "\n",
        "# Cargar el archivo CSV con el ajuste de codificación y saltando la primera columna problemática\n",
        "file_path = '/content/Spam_SMS.csv'  # Asegúrate de usar la ruta correcta\n",
        "df = pd.read_csv(file_path, encoding='latin-1')\n",
        "\n",
        "# Renombrar las columnas para que se vean correctamente\n",
        "df.columns = [\"Class\", \"Message\"]\n",
        "\n",
        "# Visualizar las primeras filas para confirmar\n",
        "print(df.head())"
      ],
      "metadata": {
        "colab": {
          "base_uri": "https://localhost:8080/"
        },
        "id": "V6HK6WfF-kDv",
        "outputId": "fa0c7d28-d905-4646-bb40-9b846ab7ab0a"
      },
      "execution_count": null,
      "outputs": [
        {
          "output_type": "stream",
          "name": "stdout",
          "text": [
            "  Class                                            Message\n",
            "0   ham  Go until jurong point, crazy.. Available only ...\n",
            "1   ham                      Ok lar... Joking wif u oni...\n",
            "2  spam  Free entry in 2 a wkly comp to win FA Cup fina...\n",
            "3   ham  U dun say so early hor... U c already then say...\n",
            "4   ham  Nah I don't think he goes to usf, he lives aro...\n"
          ]
        }
      ]
    },
    {
      "cell_type": "code",
      "source": [
        "from sklearn.model_selection import train_test_split\n",
        "from sklearn.preprocessing import LabelEncoder\n",
        "\n",
        "# 2. Preprocesamiento de los datos\n",
        "\n",
        "# Codificar las etiquetas (spam y ham)\n",
        "label_encoder = LabelEncoder()\n",
        "df['Class'] = label_encoder.fit_transform(df['Class'])\n",
        "\n",
        "# Dividir el conjunto de datos\n",
        "train_df, test_df = train_test_split(df, test_size=0.2, random_state=42)"
      ],
      "metadata": {
        "id": "2q_dwsxABmnX"
      },
      "execution_count": null,
      "outputs": []
    },
    {
      "cell_type": "code",
      "source": [
        "from transformers import BertTokenizer, BertModel\n",
        "\n",
        "# Preparar el tokenizador con clean_up_tokenization_spaces establecido\n",
        "tokenizer = BertTokenizer.from_pretrained('bert-base-uncased', clean_up_tokenization_spaces=True)\n",
        "\n",
        "# El warning de este output no se puede modificar, solo es un aviso de que se esta tomando el tokenizador de un modelo preentrenado, se oculta por fines de formato"
      ],
      "metadata": {
        "colab": {
          "base_uri": "https://localhost:8080/"
        },
        "id": "3C1DjZ_iCQzB",
        "outputId": "f6ee21db-7374-4022-9fa6-306ae4428cdf",
        "collapsed": true
      },
      "execution_count": null,
      "outputs": [
        {
          "output_type": "stream",
          "name": "stderr",
          "text": [
            "/usr/local/lib/python3.10/dist-packages/huggingface_hub/utils/_auth.py:94: UserWarning: \n",
            "The secret `HF_TOKEN` does not exist in your Colab secrets.\n",
            "To authenticate with the Hugging Face Hub, create a token in your settings tab (https://huggingface.co/settings/tokens), set it as secret in your Google Colab and restart your session.\n",
            "You will be able to reuse this secret in all of your notebooks.\n",
            "Please note that authentication is recommended but still optional to access public models or datasets.\n",
            "  warnings.warn(\n"
          ]
        }
      ]
    },
    {
      "cell_type": "code",
      "source": [
        "from torch.utils.data import Dataset\n",
        "\n",
        "# 4. Crear el Dataset personalizado\n",
        "\n",
        "class CustomDataset(Dataset):\n",
        "    def __init__(self, messages, labels, tokenizer, max_len):\n",
        "        self.messages = messages\n",
        "        self.labels = labels\n",
        "        self.tokenizer = tokenizer\n",
        "        self.max_len = max_len\n",
        "\n",
        "    def __len__(self):\n",
        "        return len(self.messages)\n",
        "\n",
        "    def __getitem__(self, index):\n",
        "        message = self.messages[index]\n",
        "        label = self.labels[index]\n",
        "\n",
        "        # Tokenizar y rellenar (padding)\n",
        "        encoding = self.tokenizer.encode_plus(\n",
        "            message,\n",
        "            add_special_tokens=True,\n",
        "            max_length=self.max_len,\n",
        "            return_token_type_ids=False,\n",
        "            padding='max_length',\n",
        "            truncation=True,\n",
        "            return_attention_mask=True,\n",
        "            return_tensors='pt',\n",
        "        )\n",
        "\n",
        "        return {\n",
        "            'input_ids': encoding['input_ids'].flatten(),\n",
        "            'attention_mask': encoding['attention_mask'].flatten(),\n",
        "            'labels': torch.tensor(label, dtype=torch.long)\n",
        "        }\n",
        "\n",
        "def collate_fn(batch):\n",
        "    return {\n",
        "        'input_ids': torch.stack([item['input_ids'] for item in batch]),\n",
        "        'attention_mask': torch.stack([item['attention_mask'] for item in batch]),\n",
        "        'labels': torch.stack([item['labels'] for item in batch])\n",
        "    }"
      ],
      "metadata": {
        "id": "Lue7JeH9CfH2"
      },
      "execution_count": null,
      "outputs": []
    },
    {
      "cell_type": "code",
      "source": [
        "from torch.utils.data import DataLoader\n",
        "# 5. Definir los parámetros\n",
        "max_len = 128  # Tamaño reducido\n",
        "batch_size = 32  # Ajusta según tu GPU\n",
        "\n",
        "# Crear los DataLoader\n",
        "train_dataset = CustomDataset(train_df['Message'].to_numpy(), train_df['Class'].to_numpy(), tokenizer, max_len)\n",
        "test_dataset = CustomDataset(test_df['Message'].to_numpy(), test_df['Class'].to_numpy(), tokenizer, max_len)\n",
        "\n",
        "train_loader = DataLoader(train_dataset, batch_size=batch_size, collate_fn=collate_fn)\n",
        "test_loader = DataLoader(test_dataset, batch_size=batch_size, collate_fn=collate_fn)"
      ],
      "metadata": {
        "id": "OZa8T6bxCpEz"
      },
      "execution_count": null,
      "outputs": []
    },
    {
      "cell_type": "code",
      "source": [
        "import torch.nn as nn\n",
        "\n",
        "# 6. Definir el modelo\n",
        "\n",
        "class SpamClassifier(nn.Module):\n",
        "    def __init__(self):\n",
        "        super(SpamClassifier, self).__init__()\n",
        "        self.bert = BertModel.from_pretrained('bert-base-uncased')\n",
        "        self.dropout = nn.Dropout(0.3)\n",
        "        self.fc = nn.Linear(self.bert.config.hidden_size, 2)  # 2 clases: spam y ham\n",
        "\n",
        "    def forward(self, input_ids, attention_mask):\n",
        "        outputs = self.bert(input_ids=input_ids, attention_mask=attention_mask)\n",
        "        pooled_output = outputs[1]  # Salida de la capa [CLS]\n",
        "        pooled_output = self.dropout(pooled_output)\n",
        "        return self.fc(pooled_output)"
      ],
      "metadata": {
        "id": "Zt8HrpuuC37H"
      },
      "execution_count": null,
      "outputs": []
    },
    {
      "cell_type": "code",
      "source": [
        "import torch\n",
        "import torch.optim as optim\n",
        "import torch.nn as nn\n",
        "\n",
        "# 7. Entrenamiento del modelo\n",
        "\n",
        "device = torch.device(\"cuda\" if torch.cuda.is_available() else \"cpu\")\n",
        "model = SpamClassifier().to(device)\n",
        "\n",
        "# Definir la función de pérdida y el optimizador con una tasa de aprendizaje más alta\n",
        "loss_fn = nn.CrossEntropyLoss()\n",
        "optimizer = optim.Adam(model.parameters(), lr=5e-5)\n",
        "\n",
        "# Entrenamiento con Mixed Precision\n",
        "scaler = torch.amp.GradScaler()  # Para mixed precision\n",
        "\n",
        "# Funciones de entrenamiento y evaluación\n",
        "def train_epoch(model, data_loader, loss_fn, optimizer, device, n_examples):\n",
        "    model = model.train()\n",
        "    losses = []\n",
        "    correct_predictions = 0\n",
        "\n",
        "    for d in data_loader:\n",
        "        input_ids = d['input_ids'].to(device)\n",
        "        attention_mask = d['attention_mask'].to(device)\n",
        "        labels = d['labels'].to(device)\n",
        "\n",
        "        # Usar la nueva sintaxis para autocast\n",
        "        with torch.amp.autocast('cuda'):  # Cambiado aquí\n",
        "            outputs = model(input_ids, attention_mask)\n",
        "            loss = loss_fn(outputs, labels)\n",
        "\n",
        "        scaler.scale(loss).backward()\n",
        "        scaler.step(optimizer)\n",
        "        scaler.update()\n",
        "\n",
        "        # Cálculo de las predicciones y precisión\n",
        "        _, preds = torch.max(outputs, dim=1)\n",
        "        correct_predictions += torch.sum(preds == labels)\n",
        "        losses.append(loss.item())\n",
        "\n",
        "    # Calculamos precisión como proporción de aciertos\n",
        "    accuracy = correct_predictions.double() / n_examples\n",
        "    avg_loss = sum(losses) / len(losses)\n",
        "\n",
        "    return accuracy, avg_loss\n",
        "\n",
        "def evaluate_model(model, data_loader, loss_fn, device):\n",
        "    model = model.eval()\n",
        "    all_labels = []\n",
        "    all_preds = []\n",
        "    total_loss = 0\n",
        "\n",
        "    with torch.no_grad():\n",
        "        for d in data_loader:\n",
        "            input_ids = d['input_ids'].to(device)\n",
        "            attention_mask = d['attention_mask'].to(device)\n",
        "            labels = d['labels'].to(device)\n",
        "\n",
        "            # Sin autocast en evaluación\n",
        "            outputs = model(input_ids, attention_mask)\n",
        "            _, preds = torch.max(outputs, dim=1)\n",
        "\n",
        "            loss = loss_fn(outputs, labels)\n",
        "            total_loss += loss.item()\n",
        "\n",
        "            all_labels.extend(labels.cpu().numpy())\n",
        "            all_preds.extend(preds.cpu().numpy())\n",
        "\n",
        "    # Calculamos la media de la pérdida\n",
        "    avg_loss = total_loss / len(data_loader)  # Promedio de la pérdida\n",
        "\n",
        "    # Regresamos las etiquetas, predicciones y la pérdida promedio\n",
        "    return all_labels, all_preds, avg_loss\n"
      ],
      "metadata": {
        "id": "hQpwxGjUDUwZ"
      },
      "execution_count": null,
      "outputs": []
    },
    {
      "cell_type": "code",
      "source": [
        "# 8. Entrenamiento\n",
        "EPOCHS = 5  # Puedes ajustar el número de épocas\n",
        "for epoch in range(EPOCHS):\n",
        "    print(f'Epoch {epoch + 1}/{EPOCHS}')\n",
        "    print('-' * 10)\n",
        "\n",
        "    # Entrenamiento de una época\n",
        "    train_acc, train_loss = train_epoch(\n",
        "        model, train_loader, loss_fn, optimizer, device, len(train_dataset)\n",
        "    )\n",
        "    print(f'Train loss {train_loss} accuracy {train_acc}')\n",
        "\n",
        "    # Evaluar el modelo, asegurándose de pasar el dispositivo\n",
        "    val_labels, val_preds, val_loss = evaluate_model(\n",
        "        model, test_loader, loss_fn, device  # Pasamos 'device' aquí\n",
        "    )\n",
        "\n",
        "    # Asegurarnos de que las predicciones y las etiquetas sean tensores de PyTorch\n",
        "    val_preds = torch.tensor(val_preds)\n",
        "    val_labels = torch.tensor(val_labels)\n",
        "\n",
        "    # Calculamos la precisión comparando las predicciones con las etiquetas verdaderas\n",
        "    val_acc = (val_preds == val_labels).sum().item() / len(val_labels)  # La precisión es el promedio de aciertos\n",
        "    print(f'Validation loss {val_loss} accuracy {val_acc}')"
      ],
      "metadata": {
        "colab": {
          "base_uri": "https://localhost:8080/"
        },
        "id": "mf_qpVV7D35g",
        "outputId": "f5183185-190a-4252-e512-f6adc119fa69"
      },
      "execution_count": null,
      "outputs": [
        {
          "output_type": "stream",
          "name": "stdout",
          "text": [
            "Epoch 1/5\n",
            "----------\n",
            "Train loss 0.08670100597664714 accuracy 0.9717425431711146\n",
            "Validation loss 0.026068109167473656 accuracy 0.9946188340807175\n",
            "Epoch 2/5\n",
            "----------\n",
            "Train loss 0.02112508583647598 accuracy 0.9941690962099126\n",
            "Validation loss 0.021645405259914697 accuracy 0.9955156950672646\n",
            "Epoch 3/5\n",
            "----------\n",
            "Train loss 0.01789246590674988 accuracy 0.9948418928010765\n",
            "Validation loss 0.021645405259914697 accuracy 0.9955156950672646\n",
            "Epoch 4/5\n",
            "----------\n",
            "Train loss 0.017423535452689976 accuracy 0.9955146893922405\n",
            "Validation loss 0.021645405259914697 accuracy 0.9955156950672646\n",
            "Epoch 5/5\n",
            "----------\n",
            "Train loss 0.017918206485254422 accuracy 0.9957389549226284\n",
            "Validation loss 0.021645405259914697 accuracy 0.9955156950672646\n"
          ]
        }
      ]
    },
    {
      "cell_type": "code",
      "source": [
        "# 9. Guardar el modelo entrenado\n",
        "model_save_path = \"spam_classifier_model.pth\"\n",
        "torch.save(model.state_dict(), model_save_path)\n",
        "print(f\"Modelo guardado en {model_save_path}\")"
      ],
      "metadata": {
        "colab": {
          "base_uri": "https://localhost:8080/"
        },
        "id": "oQdhR5-iD46f",
        "outputId": "67afea90-5c2d-4cb5-cc08-db9d227b1a78"
      },
      "execution_count": null,
      "outputs": [
        {
          "output_type": "stream",
          "name": "stdout",
          "text": [
            "Modelo guardado en spam_classifier_model.pth\n"
          ]
        }
      ]
    },
    {
      "cell_type": "code",
      "source": [
        "# 10. Cargar el modelo para hacer predicciones\n",
        "def load_model():\n",
        "    model = SpamClassifier()\n",
        "    model.load_state_dict(torch.load(model_save_path))\n",
        "    model.to(device)  # Asegurar que el modelo esté en el dispositivo\n",
        "    model.eval()\n",
        "    return model"
      ],
      "metadata": {
        "id": "O8EcdnuwD_45"
      },
      "execution_count": null,
      "outputs": []
    },
    {
      "cell_type": "code",
      "source": [
        "# 11. Hacer una predicción\n",
        "def predict_message(message, model, tokenizer, device):\n",
        "    # Tokenizar y rellenar (padding)\n",
        "    encoding = tokenizer.encode_plus(\n",
        "        message,\n",
        "        add_special_tokens=True,\n",
        "        max_length=max_len,\n",
        "        return_token_type_ids=False,\n",
        "        padding='max_length',\n",
        "        truncation=True,\n",
        "        return_attention_mask=True,\n",
        "        return_tensors='pt',\n",
        "    )\n",
        "\n",
        "    input_ids = encoding['input_ids'].to(device)\n",
        "    attention_mask = encoding['attention_mask'].to(device)\n",
        "\n",
        "    # Hacer la predicción\n",
        "    with torch.no_grad():\n",
        "        outputs = model(input_ids, attention_mask)\n",
        "        _, predicted = torch.max(outputs, dim=1)\n",
        "\n",
        "    # Convertir la predicción a etiqueta\n",
        "    return 'ham' if predicted.item() == 0 else 'spam'"
      ],
      "metadata": {
        "id": "tkSyo8ETECfw"
      },
      "execution_count": null,
      "outputs": []
    },
    {
      "cell_type": "code",
      "source": [
        "# 12. Evaluar el modelo en el conjunto de prueba\n",
        "test_labels, test_preds, test_loss = evaluate_model(model, test_loader, loss_fn, device)  # Agregado 'loss_fn'\n",
        "\n",
        "# 13. Generar la matriz de confusión\n",
        "conf_matrix = confusion_matrix(test_labels, test_preds)\n",
        "\n",
        "# 14. Graficar la matriz de confusión\n",
        "plt.figure(figsize=(8, 6))\n",
        "sns.heatmap(conf_matrix, annot=True, fmt='d', cmap='Blues', xticklabels=['Ham', 'Spam'], yticklabels=['Ham', 'Spam'])\n",
        "plt.xlabel('Predicted Labels')\n",
        "plt.ylabel('True Labels')\n",
        "plt.title('Confusion Matrix')\n",
        "plt.show()\n",
        "\n",
        "# Reporte de clasificación\n",
        "print(\"Classification Report:\")\n",
        "print(classification_report(test_labels, test_preds, target_names=['Ham', 'Spam']))\n"
      ],
      "metadata": {
        "colab": {
          "base_uri": "https://localhost:8080/",
          "height": 738
        },
        "id": "YjNC61Q_XQ6b",
        "outputId": "2e49cc02-d348-40df-a90c-a1c2bdd65119"
      },
      "execution_count": null,
      "outputs": [
        {
          "output_type": "display_data",
          "data": {
            "text/plain": [
              "<Figure size 800x600 with 2 Axes>"
            ],
            "image/png": "[encoded data removed]"
          },
          "metadata": {}
        },
        {
          "output_type": "stream",
          "name": "stdout",
          "text": [
            "Classification Report:\n",
            "              precision    recall  f1-score   support\n",
            "\n",
            "         Ham       1.00      1.00      1.00       954\n",
            "        Spam       0.99      0.98      0.98       161\n",
            "\n",
            "    accuracy                           1.00      1115\n",
            "   macro avg       0.99      0.99      0.99      1115\n",
            "weighted avg       1.00      1.00      1.00      1115\n",
            "\n"
          ]
        }
      ]
    },
    {
      "cell_type": "code",
      "source": [
        "# 15. Ejemplo de uso\n",
        "message = \"Esta muy padre programar un modelo Transformer\"\n",
        "prediction = predict_message(message, model, tokenizer, device)\n",
        "print(f\"The message is classified as: {prediction}\")"
      ],
      "metadata": {
        "colab": {
          "base_uri": "https://localhost:8080/"
        },
        "id": "530PWVeGQxni",
        "outputId": "fcb9a662-4b78-4f30-ac6f-8ae26a3d495a"
      },
      "execution_count": null,
      "outputs": [
        {
          "output_type": "stream",
          "name": "stdout",
          "text": [
            "The message is classified as: ham\n"
          ]
        }
      ]
    }
  ]
}